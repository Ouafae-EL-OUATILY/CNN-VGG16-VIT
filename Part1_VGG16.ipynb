{
  "nbformat": 4,
  "nbformat_minor": 0,
  "metadata": {
    "colab": {
      "provenance": [],
      "gpuType": "T4"
    },
    "kernelspec": {
      "name": "python3",
      "display_name": "Python 3"
    },
    "language_info": {
      "name": "python"
    },
    "accelerator": "GPU"
  },
  "cells": [
    {
      "cell_type": "code",
      "source": [
        "import pandas as pd\n",
        "\n",
        "train_csv_path = \"/content/sample_data/mnist_train_small.csv\"\n",
        "test_csv_path = \"/content/sample_data/mnist_test.csv\"\n",
        "\n",
        "# Load CSV files into Pandas DataFrames\n",
        "train_df = pd.read_csv(train_csv_path)\n",
        "test_df = pd.read_csv(test_csv_path)\n",
        "\n",
        "# information about the DataFrames\n",
        "print(\"Training set shape:\", train_df.shape)\n",
        "print(\"Test set shape:\", test_df.shape)\n",
        "\n",
        "# first rows of DataFrames\n",
        "print(\"\\nTraining set:\")\n",
        "print(train_df.head())\n",
        "\n",
        "print(\"\\nTest set:\")\n",
        "print(test_df.head())\n"
      ],
      "metadata": {
        "colab": {
          "base_uri": "https://localhost:8080/"
        },
        "id": "ysNfbOnTgASU",
        "outputId": "96a29269-1c93-458d-bb51-84979b7589b9"
      },
      "execution_count": 1,
      "outputs": [
        {
          "output_type": "stream",
          "name": "stdout",
          "text": [
            "Training set shape: (19999, 785)\n",
            "Test set shape: (9999, 785)\n",
            "\n",
            "Training set:\n",
            "   6  0  0.1  0.2  0.3  0.4  0.5  0.6  0.7  0.8  ...  0.581  0.582  0.583  \\\n",
            "0  5  0    0    0    0    0    0    0    0    0  ...      0      0      0   \n",
            "1  7  0    0    0    0    0    0    0    0    0  ...      0      0      0   \n",
            "2  9  0    0    0    0    0    0    0    0    0  ...      0      0      0   \n",
            "3  5  0    0    0    0    0    0    0    0    0  ...      0      0      0   \n",
            "4  2  0    0    0    0    0    0    0    0    0  ...      0      0      0   \n",
            "\n",
            "   0.584  0.585  0.586  0.587  0.588  0.589  0.590  \n",
            "0      0      0      0      0      0      0      0  \n",
            "1      0      0      0      0      0      0      0  \n",
            "2      0      0      0      0      0      0      0  \n",
            "3      0      0      0      0      0      0      0  \n",
            "4      0      0      0      0      0      0      0  \n",
            "\n",
            "[5 rows x 785 columns]\n",
            "\n",
            "Test set:\n",
            "   7  0  0.1  0.2  0.3  0.4  0.5  0.6  0.7  0.8  ...  0.658  0.659  0.660  \\\n",
            "0  2  0    0    0    0    0    0    0    0    0  ...      0      0      0   \n",
            "1  1  0    0    0    0    0    0    0    0    0  ...      0      0      0   \n",
            "2  0  0    0    0    0    0    0    0    0    0  ...      0      0      0   \n",
            "3  4  0    0    0    0    0    0    0    0    0  ...      0      0      0   \n",
            "4  1  0    0    0    0    0    0    0    0    0  ...      0      0      0   \n",
            "\n",
            "   0.661  0.662  0.663  0.664  0.665  0.666  0.667  \n",
            "0      0      0      0      0      0      0      0  \n",
            "1      0      0      0      0      0      0      0  \n",
            "2      0      0      0      0      0      0      0  \n",
            "3      0      0      0      0      0      0      0  \n",
            "4      0      0      0      0      0      0      0  \n",
            "\n",
            "[5 rows x 785 columns]\n"
          ]
        }
      ]
    },
    {
      "cell_type": "code",
      "source": [
        "import torch\n",
        "from torch.utils.data import Dataset, DataLoader\n",
        "from torchvision import transforms\n",
        "\n",
        "class MNISTDataset(Dataset):\n",
        "    def __init__(self, dataframe, transform=None):\n",
        "        self.dataframe = dataframe\n",
        "        self.transform = transform\n",
        "\n",
        "    def __len__(self):\n",
        "        return len(self.dataframe)\n",
        "\n",
        "    def __getitem__(self, idx):\n",
        "        label = torch.tensor(self.dataframe.iloc[idx, 0], dtype=torch.long)\n",
        "        image = torch.tensor(self.dataframe.iloc[idx, 1:].values, dtype=torch.float32).view(1, 28, 28)  # Add the channel dimension\n",
        "\n",
        "        if self.transform:\n",
        "            # Convert the tensor to a PIL Image\n",
        "            image = transforms.ToPILImage()(image)\n",
        "            image = self.transform(image)\n",
        "\n",
        "        return image, label\n",
        "\n",
        "# Transformation\n",
        "transform = transforms.Compose([transforms.Grayscale(num_output_channels=3),  # Convert to RGB\n",
        "                                transforms.Resize((224, 224)),\n",
        "                                transforms.ToTensor()])\n",
        "\n",
        "# Create instances from MNISTDataset\n",
        "train_dataset = MNISTDataset(train_df, transform=transform)\n",
        "test_dataset = MNISTDataset(test_df, transform=transform)\n",
        "\n",
        "# DataLoaders\n",
        "batch_size = 64  # only for a batch\n",
        "train_loader = DataLoader(train_dataset, batch_size=batch_size, shuffle=True)\n",
        "test_loader = DataLoader(test_dataset, batch_size=batch_size, shuffle=False)\n"
      ],
      "metadata": {
        "id": "roVrc2Kqj6WV"
      },
      "execution_count": 2,
      "outputs": []
    },
    {
      "cell_type": "code",
      "source": [
        "import torch\n",
        "import torch.nn as nn\n",
        "import torch.optim as optim\n",
        "from torchvision import models, transforms\n",
        "from torch.utils.data import DataLoader\n",
        "import matplotlib.pyplot as plt\n",
        "\n",
        "\n",
        "data_transform = transforms.Compose([\n",
        "    transforms.Grayscale(num_output_channels=3),\n",
        "    transforms.ColorJitter(brightness=0.5, contrast=0.5, saturation=0.5, hue=0.5),\n",
        "    transforms.Resize((224, 224)),\n",
        "    transforms.ToTensor(),\n",
        "])\n",
        "\n",
        "\n",
        "\n",
        "vgg16_model = models.vgg16(pretrained=True)\n",
        "\n",
        "num_classes = len(set(train_df.iloc[:, 0]))\n",
        "vgg16_model.classifier[6] = nn.Linear(4096, num_classes)\n",
        "\n",
        "\n",
        "criterion_vgg16 = nn.CrossEntropyLoss()\n",
        "optimizer_vgg16 = optim.SGD(vgg16_model.parameters(), lr=0.001, momentum=0.9)\n",
        "\n",
        "# Train the fine-tuned VGG16 model\n",
        "num_epochs = 5\n",
        "device = torch.device(\"cuda\" if torch.cuda.is_available() else \"cpu\")\n",
        "vgg16_model = vgg16_model.to(device)\n",
        "\n",
        "train_losses_vgg16 = []\n",
        "\n",
        "for epoch in range(num_epochs):\n",
        "    vgg16_model.train()\n",
        "    running_loss = 0.0\n",
        "    for inputs, labels in train_loader:\n",
        "        inputs, labels = inputs.to(device), labels.to(device)\n",
        "\n",
        "        optimizer_vgg16.zero_grad()\n",
        "        outputs = vgg16_model(inputs)\n",
        "        loss = criterion_vgg16(outputs, labels)\n",
        "        loss.backward()\n",
        "        optimizer_vgg16.step()\n",
        "\n",
        "        running_loss += loss.item()\n",
        "\n",
        "    average_loss = running_loss / len(train_loader)\n",
        "    train_losses_vgg16.append(average_loss)\n",
        "\n",
        "    print(f\"Epoch {epoch + 1}/{num_epochs}, Loss: {average_loss}\")\n",
        "\n",
        "# Plotting the training loss curve for VGG16\n",
        "plt.plot(train_losses_vgg16, label='Training Loss (VGG16)')\n",
        "plt.title('Training Loss Over Epochs (VGG16)')\n",
        "plt.xlabel('Epoch')\n",
        "plt.ylabel('Loss')\n",
        "plt.legend()\n",
        "plt.show()\n",
        "\n",
        "# Testing the fine-tuned VGG16 model\n",
        "vgg16_model.eval()\n",
        "correct_vgg16 = 0\n",
        "total_vgg16 = 0\n",
        "\n",
        "with torch.no_grad():\n",
        "    for inputs, labels in test_loader:\n",
        "        inputs, labels = inputs.to(device), labels.to(device)\n",
        "        outputs = vgg16_model(inputs)\n",
        "        _, predicted = torch.max(outputs.data, 1)\n",
        "        total_vgg16 += labels.size(0)\n",
        "        correct_vgg16 += (predicted == labels).sum().item()\n",
        "\n",
        "accuracy_vgg16 = correct_vgg16 / total_vgg16\n",
        "print(f\"Accuracy on the test set (VGG16): {100 * accuracy_vgg16:.2f}%\")\n"
      ],
      "metadata": {
        "colab": {
          "base_uri": "https://localhost:8080/",
          "height": 700
        },
        "id": "gmT6cC2-j_8A",
        "outputId": "e5ec434c-5555-47a3-d824-b94dad508a85"
      },
      "execution_count": 3,
      "outputs": [
        {
          "output_type": "stream",
          "name": "stderr",
          "text": [
            "/usr/local/lib/python3.10/dist-packages/torchvision/models/_utils.py:208: UserWarning: The parameter 'pretrained' is deprecated since 0.13 and may be removed in the future, please use 'weights' instead.\n",
            "  warnings.warn(\n",
            "/usr/local/lib/python3.10/dist-packages/torchvision/models/_utils.py:223: UserWarning: Arguments other than a weight enum or `None` for 'weights' are deprecated since 0.13 and may be removed in the future. The current behavior is equivalent to passing `weights=VGG16_Weights.IMAGENET1K_V1`. You can also use `weights=VGG16_Weights.DEFAULT` to get the most up-to-date weights.\n",
            "  warnings.warn(msg)\n",
            "Downloading: \"https://download.pytorch.org/models/vgg16-397923af.pth\" to /root/.cache/torch/hub/checkpoints/vgg16-397923af.pth\n",
            "100%|██████████| 528M/528M [00:07<00:00, 71.2MB/s]\n"
          ]
        },
        {
          "output_type": "stream",
          "name": "stdout",
          "text": [
            "Epoch 1/5, Loss: 0.3790853010585752\n",
            "Epoch 2/5, Loss: 0.06485086045088098\n",
            "Epoch 3/5, Loss: 0.03930443969329063\n",
            "Epoch 4/5, Loss: 0.031249025190537707\n",
            "Epoch 5/5, Loss: 0.024342987793698586\n"
          ]
        },
        {
          "output_type": "display_data",
          "data": {
            "text/plain": [
              "<Figure size 640x480 with 1 Axes>"
            ],
            "image/png": "[encoded data removed]"
          },
          "metadata": {}
        },
        {
          "output_type": "stream",
          "name": "stdout",
          "text": [
            "Accuracy on the test set (VGG16): 98.95%\n"
          ]
        }
      ]
    },
    {
      "cell_type": "code",
      "source": [],
      "metadata": {
        "id": "VSiJx6UkkF9f"
      },
      "execution_count": null,
      "outputs": []
    }
  ]
}